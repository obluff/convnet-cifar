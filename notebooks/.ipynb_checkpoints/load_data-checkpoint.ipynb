{
 "cells": [
  {
   "cell_type": "code",
   "execution_count": 1,
   "metadata": {},
   "outputs": [],
   "source": [
    "%matplotlib inline\n",
    "\n",
    "import os  \n",
    "os.chdir('../')"
   ]
  },
  {
   "cell_type": "code",
   "execution_count": 2,
   "metadata": {},
   "outputs": [
    {
     "name": "stdout",
     "output_type": "stream",
     "text": [
      "batches.meta  data_batch_2  data_batch_4  readme.html\n",
      "data_batch_1  data_batch_3  data_batch_5  test_batch\n"
     ]
    }
   ],
   "source": [
    "ls data/cifar-10-batches-py/"
   ]
  },
  {
   "cell_type": "code",
   "execution_count": 3,
   "metadata": {},
   "outputs": [],
   "source": [
    "import numpy as np\n",
    "import pickle\n",
    "from functools import reduce\n",
    "from matplotlib import pyplot as plt\n",
    "\n",
    "import pandas as pd"
   ]
  },
  {
   "cell_type": "code",
   "execution_count": 4,
   "metadata": {},
   "outputs": [],
   "source": [
    "def load_files(input_dir):\n",
    "    \"\"\"Takes in an input training directory and returns \n",
    "    \n",
    "        train_data, train_labels\n",
    "        test_data, test_labels\"\"\"\n",
    "    training_files = map(lambda x: import_image(''.join([input_dir, '/', 'data_batch_', str(x)])), range(2, 3))\n",
    "    \n",
    "    train_data, train_labels = reduce(lambda x, y: (np.append(x[0], y[0], axis=0), np.append(x[1], y[1], axis=0)), training_files)\n",
    "    test_data, test_labels = import_image('data/cifar-10-batches-py/test_batch')\n",
    "    \n",
    "    return train_data, train_labels, test_data, test_labels"
   ]
  },
  {
   "cell_type": "code",
   "execution_count": 5,
   "metadata": {},
   "outputs": [],
   "source": [
    "def unpickle_and_encode(file):\n",
    "    with open(file, 'rb') as fo:\n",
    "        dic = pickle.load(fo, encoding='bytes')\n",
    "    return {str(k, 'utf-8'): v for k, v in dic.items()}"
   ]
  },
  {
   "cell_type": "code",
   "execution_count": 6,
   "metadata": {},
   "outputs": [],
   "source": [
    "def import_image(path):\n",
    "    raw_image_data = unpickle_and_encode(path)\n",
    "    \n",
    "    images, labels = raw_image_data['data'], raw_image_data['labels']\n",
    "    images = images.reshape((images.shape[0], 3, 32, 32)).transpose(0, 2, 3, 1) \n",
    "    \n",
    "    return images, labels"
   ]
  },
  {
   "cell_type": "code",
   "execution_count": 7,
   "metadata": {},
   "outputs": [],
   "source": [
    "def plot_image(img_object, label = None):\n",
    "    \n",
    "    plt.title(label)\n",
    "    plt.imshow(img_object)\n",
    "    "
   ]
  },
  {
   "cell_type": "code",
   "execution_count": 8,
   "metadata": {},
   "outputs": [],
   "source": [
    "train_data, train_labels, test_data, test_labels = load_files('data/cifar-10-batches-py')\n",
    "label_encodings = unpickle_and_encode('data/cifar-10-batches-py/batches.meta')['label_names']"
   ]
  },
  {
   "cell_type": "code",
   "execution_count": 9,
   "metadata": {},
   "outputs": [
    {
     "data": {
      "image/png": "[encoded data removed]",
      "text/plain": [
       "<Figure size 432x288 with 1 Axes>"
      ]
     },
     "metadata": {
      "needs_background": "light"
     },
     "output_type": "display_data"
    }
   ],
   "source": [
    "plot_image(train_data[0], train_labels[0])"
   ]
  },
  {
   "cell_type": "code",
   "execution_count": 10,
   "metadata": {},
   "outputs": [],
   "source": [
    "import numpy as np \n",
    "import torch\n",
    "import torchvision\n",
    "import torchvision.transforms as transforms"
   ]
  },
  {
   "cell_type": "code",
   "execution_count": 11,
   "metadata": {},
   "outputs": [],
   "source": [
    "from torch.autograd import Variable\n",
    "import torch.nn as nn\n",
    "\n",
    "import torch.nn.functional as F\n",
    "\n",
    "class VanillaCNN(torch.nn.Module):\n",
    "    \n",
    "    def __init__(self, num_classes=10):\n",
    "        super(VanillaCNN, self).__init__()\n",
    "        self.conv1 = nn.Conv2d(3, 6, 5)\n",
    "        self.pool = nn.MaxPool2d(2, 2)\n",
    "        self.conv2 = nn.Conv2d(6, 16, 5)\n",
    "        self.fc1 = nn.Linear(16 * 5 * 5, 120)\n",
    "        self.fc2 = nn.Linear(120, 84)\n",
    "        self.fc3 = nn.Linear(84, 10) \n",
    "        \n",
    "    def forward(self, x):\n",
    "        x = self.pool(F.relu(self.conv1(x)))\n",
    "        x = self.pool(F.relu(self.conv2(x)))\n",
    "        x = x.view(-1, 16 * 5 * 5)\n",
    "        x = F.relu(self.fc1(x))\n",
    "        x = F.relu(self.fc2(x))\n",
    "        x = self.fc3(x)\n",
    "        \n",
    "        return x"
   ]
  },
  {
   "cell_type": "code",
   "execution_count": 12,
   "metadata": {},
   "outputs": [],
   "source": [
    "import torch.optim as optim\n",
    "from torch.utils.data import TensorDataset\n",
    "\n",
    "\n",
    "def loss_and_optimizer(net, learning_rate):\n",
    "    \n",
    "    loss = torch.nn.CrossEntropyLoss()\n",
    "    \n",
    "    optimizer = optim.SGD(net.parameters(), lr=learning_rate)\n",
    "    \n",
    "    return loss, optimizer"
   ]
  },
  {
   "cell_type": "code",
   "execution_count": 43,
   "metadata": {},
   "outputs": [
    {
     "data": {
      "text/plain": [
       "(10000, 32, 32, 3)"
      ]
     },
     "execution_count": 43,
     "metadata": {},
     "output_type": "execute_result"
    }
   ],
   "source": [
    "def get_train_loader(batch_size, train_data, train_labels):\n",
    "    \n",
    "    dataset = TensorDataset(torch.Tensor(train_data.transpose(0,3,1,2)),\n",
    "                            torch.LongTensor(train_labels))\n",
    "    if batch_size is None:\n",
    "        return dataset\n",
    "    \n",
    "    return torch.utils.data.DataLoader(dataset, batch_size=batch_size,\n",
    "                                        num_workers=2)\n",
    "\n",
    "train_data.shape"
   ]
  },
  {
   "cell_type": "code",
   "execution_count": 49,
   "metadata": {},
   "outputs": [],
   "source": [
    "def train_model(net, batch_size, n_epochs, learning_rate, train_data, train_labels):\n",
    "    running_losses = []\n",
    "    train_loader = get_train_loader(batch_size, train_data, train_labels)\n",
    "    \n",
    "    n_batches = len(train_loader)\n",
    "    loss, optimizer = loss_and_optimizer(net, learning_rate)\n",
    "    \n",
    "    for epoch in range(n_epochs):\n",
    "        running_loss = 0\n",
    "        total_train_loss = 0\n",
    "        \n",
    "        for i, data in enumerate(train_loader, 0):\n",
    "            \n",
    "            \n",
    "            inputs, labels = data\n",
    "           # inputs, labels = Variable(inputs), Variable(labels)\n",
    "            optimizer.zero_grad()\n",
    "            \n",
    "            outputs = net(inputs)\n",
    "            loss_size = loss(outputs, labels)\n",
    "            loss_size.backward()\n",
    "            optimizer.step()\n",
    "            \n",
    "            \n",
    "            running_loss += loss_size.data.item()\n",
    "            total_train_loss += loss_size.data.item()\n",
    "\n",
    "            if i % 500 == 499: \n",
    "                print(\"Epoch {1}, \\n \\\n",
    "                       Train Loss: {2}\", i, running_loss/2500)\n",
    "                \n",
    "                running_losses += [running_loss]\n",
    "                running_loss = 0\n",
    "    return running_losses\n",
    "                \n",
    "            \n",
    "            \n",
    "        \n",
    "            \n",
    "        \n",
    "        "
   ]
  },
  {
   "cell_type": "code",
   "execution_count": null,
   "metadata": {},
   "outputs": [
    {
     "name": "stdout",
     "output_type": "stream",
     "text": [
      "Epoch {1}, \n",
      "                        Train Loss: {2} 499 0.4585096549034119\n",
      "Epoch {1}, \n",
      "                        Train Loss: {2} 999 0.42525071015357974\n",
      "Epoch {1}, \n",
      "                        Train Loss: {2} 1499 0.4057053865909576\n",
      "Epoch {1}, \n",
      "                        Train Loss: {2} 1999 0.38465723707675936\n",
      "Epoch {1}, \n",
      "                        Train Loss: {2} 499 0.37511503670215607\n",
      "Epoch {1}, \n",
      "                        Train Loss: {2} 999 0.3715015186071396\n",
      "Epoch {1}, \n",
      "                        Train Loss: {2} 1499 0.36275870168209073\n",
      "Epoch {1}, \n",
      "                        Train Loss: {2} 1999 0.34989271039962766\n",
      "Epoch {1}, \n",
      "                        Train Loss: {2} 499 0.3467260493516922\n",
      "Epoch {1}, \n",
      "                        Train Loss: {2} 999 0.3453192063808441\n",
      "Epoch {1}, \n",
      "                        Train Loss: {2} 1499 0.33910180087089536\n",
      "Epoch {1}, \n",
      "                        Train Loss: {2} 1999 0.3298230075955391\n",
      "Epoch {1}, \n",
      "                        Train Loss: {2} 499 0.32780026886463165\n",
      "Epoch {1}, \n",
      "                        Train Loss: {2} 999 0.32559932992458346\n",
      "Epoch {1}, \n",
      "                        Train Loss: {2} 1499 0.32093033030033113\n",
      "Epoch {1}, \n",
      "                        Train Loss: {2} 1999 0.3126304137587547\n",
      "Epoch {1}, \n",
      "                        Train Loss: {2} 499 0.3128695985555649\n",
      "Epoch {1}, \n",
      "                        Train Loss: {2} 999 0.30975919275283814\n",
      "Epoch {1}, \n",
      "                        Train Loss: {2} 1499 0.3053651390194893\n",
      "Epoch {1}, \n",
      "                        Train Loss: {2} 1999 0.29727070486545565\n",
      "Epoch {1}, \n",
      "                        Train Loss: {2} 499 0.2978172850251198\n",
      "Epoch {1}, \n",
      "                        Train Loss: {2} 999 0.29358374570608137\n",
      "Epoch {1}, \n",
      "                        Train Loss: {2} 1499 0.29013020485639573\n",
      "Epoch {1}, \n",
      "                        Train Loss: {2} 1999 0.2828487119734287\n",
      "Epoch {1}, \n",
      "                        Train Loss: {2} 499 0.28345443766117095\n",
      "Epoch {1}, \n",
      "                        Train Loss: {2} 999 0.27875056800842285\n",
      "Epoch {1}, \n",
      "                        Train Loss: {2} 1499 0.2746872809410095\n",
      "Epoch {1}, \n",
      "                        Train Loss: {2} 1999 0.2681419996619225\n",
      "Epoch {1}, \n",
      "                        Train Loss: {2} 499 0.26898390934467314\n",
      "Epoch {1}, \n",
      "                        Train Loss: {2} 999 0.26437374219298365\n",
      "Epoch {1}, \n",
      "                        Train Loss: {2} 1499 0.2588350371003151\n",
      "Epoch {1}, \n",
      "                        Train Loss: {2} 1999 0.25273227446079255\n",
      "Epoch {1}, \n",
      "                        Train Loss: {2} 499 0.25517120819687844\n",
      "Epoch {1}, \n",
      "                        Train Loss: {2} 999 0.25035797511339186\n",
      "Epoch {1}, \n",
      "                        Train Loss: {2} 1499 0.24496818732619285\n",
      "Epoch {1}, \n",
      "                        Train Loss: {2} 1999 0.23748454263210297\n",
      "Epoch {1}, \n",
      "                        Train Loss: {2} 499 0.24059977334737778\n",
      "Epoch {1}, \n",
      "                        Train Loss: {2} 999 0.23563173413276672\n",
      "Epoch {1}, \n",
      "                        Train Loss: {2} 1499 0.2303436635375023\n",
      "Epoch {1}, \n",
      "                        Train Loss: {2} 1999 0.22289479762017728\n",
      "Epoch {1}, \n",
      "                        Train Loss: {2} 499 0.22410350814461708\n",
      "Epoch {1}, \n",
      "                        Train Loss: {2} 999 0.22353820690214635\n",
      "Epoch {1}, \n",
      "                        Train Loss: {2} 1499 0.21851544697880745\n",
      "Epoch {1}, \n",
      "                        Train Loss: {2} 1999 0.20671774845719337\n",
      "Epoch {1}, \n",
      "                        Train Loss: {2} 499 0.21203831470906734\n",
      "Epoch {1}, \n",
      "                        Train Loss: {2} 999 0.2074779422402382\n",
      "Epoch {1}, \n",
      "                        Train Loss: {2} 1499 0.20346241226196288\n",
      "Epoch {1}, \n",
      "                        Train Loss: {2} 1999 0.19349148645401001\n",
      "Epoch {1}, \n",
      "                        Train Loss: {2} 499 0.19867388621270657\n",
      "Epoch {1}, \n",
      "                        Train Loss: {2} 999 0.19762459198832513\n",
      "Epoch {1}, \n",
      "                        Train Loss: {2} 1499 0.18940152802169322\n",
      "Epoch {1}, \n",
      "                        Train Loss: {2} 1999 0.17545365142822267\n",
      "Epoch {1}, \n",
      "                        Train Loss: {2} 499 0.1873949871599674\n",
      "Epoch {1}, \n",
      "                        Train Loss: {2} 999 0.18059378438591958\n",
      "Epoch {1}, \n",
      "                        Train Loss: {2} 1499 0.1778628361865878\n",
      "Epoch {1}, \n",
      "                        Train Loss: {2} 1999 0.16602193499207496\n",
      "Epoch {1}, \n",
      "                        Train Loss: {2} 499 0.17647049103677273\n",
      "Epoch {1}, \n",
      "                        Train Loss: {2} 999 0.1709719292715192\n",
      "Epoch {1}, \n",
      "                        Train Loss: {2} 1499 0.1660110213264823\n",
      "Epoch {1}, \n",
      "                        Train Loss: {2} 1999 0.15603218973726035\n",
      "Epoch {1}, \n",
      "                        Train Loss: {2} 499 0.16096539824157954\n",
      "Epoch {1}, \n",
      "                        Train Loss: {2} 999 0.1576785391405225\n",
      "Epoch {1}, \n",
      "                        Train Loss: {2} 1499 0.16231377160102128\n",
      "Epoch {1}, \n",
      "                        Train Loss: {2} 1999 0.1543267298579216\n",
      "Epoch {1}, \n",
      "                        Train Loss: {2} 499 0.15099364086538553\n",
      "Epoch {1}, \n",
      "                        Train Loss: {2} 999 0.1544364354431629\n",
      "Epoch {1}, \n",
      "                        Train Loss: {2} 1499 0.1496794098868966\n",
      "Epoch {1}, \n",
      "                        Train Loss: {2} 1999 0.1428304507032037\n",
      "Epoch {1}, \n",
      "                        Train Loss: {2} 499 0.14398809671252966\n",
      "Epoch {1}, \n",
      "                        Train Loss: {2} 999 0.1493937175653875\n",
      "Epoch {1}, \n",
      "                        Train Loss: {2} 1499 0.14115723006874323\n",
      "Epoch {1}, \n",
      "                        Train Loss: {2} 1999 0.13747432223185896\n",
      "Epoch {1}, \n",
      "                        Train Loss: {2} 499 0.13525512194260955\n",
      "Epoch {1}, \n",
      "                        Train Loss: {2} 999 0.12633242009803652\n",
      "Epoch {1}, \n",
      "                        Train Loss: {2} 1499 0.1431147173024714\n",
      "Epoch {1}, \n",
      "                        Train Loss: {2} 1999 0.13641009827814995\n",
      "Epoch {1}, \n",
      "                        Train Loss: {2} 499 0.13740372586846353\n",
      "Epoch {1}, \n",
      "                        Train Loss: {2} 999 0.12872465508058667\n",
      "Epoch {1}, \n",
      "                        Train Loss: {2} 1499 0.14735068249031902\n",
      "Epoch {1}, \n",
      "                        Train Loss: {2} 1999 0.137797238945961\n",
      "Epoch {1}, \n",
      "                        Train Loss: {2} 499 0.12430726974233985\n",
      "Epoch {1}, \n",
      "                        Train Loss: {2} 999 0.12743629761058836\n",
      "Epoch {1}, \n",
      "                        Train Loss: {2} 1499 0.1254182484181598\n",
      "Epoch {1}, \n",
      "                        Train Loss: {2} 1999 0.12567440238110722\n",
      "Epoch {1}, \n",
      "                        Train Loss: {2} 499 0.12146677576899528\n",
      "Epoch {1}, \n",
      "                        Train Loss: {2} 999 0.13172220978438853\n",
      "Epoch {1}, \n",
      "                        Train Loss: {2} 1499 0.12636016129981725\n"
     ]
    }
   ],
   "source": [
    "import pandas as pd \n",
    "gangsta = VanillaCNN()\n",
    "losses = train_model(gangsta, 5, 50, .001, train_data, train_labels)"
   ]
  },
  {
   "cell_type": "code",
   "execution_count": 34,
   "metadata": {},
   "outputs": [],
   "source": [
    "newnew = get_train_loader(None, test_data, test_labels)"
   ]
  },
  {
   "cell_type": "code",
   "execution_count": 92,
   "metadata": {},
   "outputs": [],
   "source": [
    "\n",
    "import torchvision\n",
    "import torchvision.transforms as transforms\n",
    "import torchvision.transforms as transforms"
   ]
  },
  {
   "cell_type": "code",
   "execution_count": 93,
   "metadata": {},
   "outputs": [
    {
     "name": "stdout",
     "output_type": "stream",
     "text": [
      "Files already downloaded and verified\n"
     ]
    }
   ],
   "source": [
    "new = torchvision.datasets.CIFAR10(root='./data', train=True, download=True, transform=transform)"
   ]
  },
  {
   "cell_type": "code",
   "execution_count": 40,
   "metadata": {},
   "outputs": [],
   "source": [
    "transform = transforms.Compose(\n",
    "    [transforms.ToTensor(),\n",
    "     transforms.Normalize((0.5, 0.5, 0.5), (0.5, 0.5, 0.5))])\n"
   ]
  },
  {
   "cell_type": "code",
   "execution_count": 22,
   "metadata": {},
   "outputs": [
    {
     "name": "stdout",
     "output_type": "stream",
     "text": [
      "\u001b[0m\u001b[01;34mcifar-10-batches-py\u001b[0m/  \u001b[01;31minput_data.tar.gz\u001b[0m\n"
     ]
    }
   ],
   "source": [
    "ls data/"
   ]
  },
  {
   "cell_type": "code",
   "execution_count": 96,
   "metadata": {},
   "outputs": [
    {
     "data": {
      "text/plain": [
       "(tensor([[[-0.5373, -0.6627, -0.6078,  ...,  0.2392,  0.1922,  0.1608],\n",
       "          [-0.8745, -1.0000, -0.8588,  ..., -0.0353, -0.0667, -0.0431],\n",
       "          [-0.8039, -0.8745, -0.6157,  ..., -0.0745, -0.0588, -0.1451],\n",
       "          ...,\n",
       "          [ 0.6314,  0.5765,  0.5529,  ...,  0.2549, -0.5608, -0.5843],\n",
       "          [ 0.4118,  0.3569,  0.4588,  ...,  0.4431, -0.2392, -0.3490],\n",
       "          [ 0.3882,  0.3176,  0.4039,  ...,  0.6941,  0.1843, -0.0353]],\n",
       " \n",
       "         [[-0.5137, -0.6392, -0.6235,  ...,  0.0353, -0.0196, -0.0275],\n",
       "          [-0.8431, -1.0000, -0.9373,  ..., -0.3098, -0.3490, -0.3176],\n",
       "          [-0.8118, -0.9451, -0.7882,  ..., -0.3412, -0.3412, -0.4275],\n",
       "          ...,\n",
       "          [ 0.3333,  0.2000,  0.2627,  ...,  0.0431, -0.7569, -0.7333],\n",
       "          [ 0.0902, -0.0353,  0.1294,  ...,  0.1608, -0.5137, -0.5843],\n",
       "          [ 0.1294,  0.0118,  0.1137,  ...,  0.4431, -0.0745, -0.2784]],\n",
       " \n",
       "         [[-0.5059, -0.6471, -0.6627,  ..., -0.1529, -0.2000, -0.1922],\n",
       "          [-0.8431, -1.0000, -1.0000,  ..., -0.5686, -0.6078, -0.5529],\n",
       "          [-0.8353, -1.0000, -0.9373,  ..., -0.6078, -0.6078, -0.6706],\n",
       "          ...,\n",
       "          [-0.2471, -0.7333, -0.7961,  ..., -0.4510, -0.9451, -0.8431],\n",
       "          [-0.2471, -0.6706, -0.7647,  ..., -0.2627, -0.7333, -0.7333],\n",
       "          [-0.0902, -0.2627, -0.3176,  ...,  0.0980, -0.3412, -0.4353]]]), 6)"
      ]
     },
     "execution_count": 96,
     "metadata": {},
     "output_type": "execute_result"
    }
   ],
   "source": [
    "new[0]"
   ]
  },
  {
   "cell_type": "code",
   "execution_count": 45,
   "metadata": {},
   "outputs": [
    {
     "data": {
      "text/plain": [
       "torch.Size([3, 32, 32])"
      ]
     },
     "execution_count": 45,
     "metadata": {},
     "output_type": "execute_result"
    }
   ],
   "source": [
    "dataset[0][0].shape"
   ]
  },
  {
   "cell_type": "code",
   "execution_count": 46,
   "metadata": {},
   "outputs": [
    {
     "data": {
      "text/plain": [
       "(10000, 3, 32, 32)"
      ]
     },
     "execution_count": 46,
     "metadata": {},
     "output_type": "execute_result"
    }
   ],
   "source": [
    "train_data.transpose(0, 3, 1, 2).shape"
   ]
  },
  {
   "cell_type": "code",
   "execution_count": 81,
   "metadata": {},
   "outputs": [
    {
     "data": {
      "text/plain": [
       "(10000, 32, 32, 3)"
      ]
     },
     "execution_count": 81,
     "metadata": {},
     "output_type": "execute_result"
    }
   ],
   "source": [
    "train_data.shape"
   ]
  },
  {
   "cell_type": "code",
   "execution_count": null,
   "metadata": {},
   "outputs": [],
   "source": []
  }
 ],
 "metadata": {
  "kernelspec": {
   "display_name": "Python 3",
   "language": "python",
   "name": "python3"
  },
  "language_info": {
   "codemirror_mode": {
    "name": "ipython",
    "version": 3
   },
   "file_extension": ".py",
   "mimetype": "text/x-python",
   "name": "python",
   "nbconvert_exporter": "python",
   "pygments_lexer": "ipython3",
   "version": "3.7.5"
  }
 },
 "nbformat": 4,
 "nbformat_minor": 4
}
